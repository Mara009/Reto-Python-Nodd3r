{
  "cells": [
    {
      "cell_type": "markdown",
      "metadata": {
        "id": "view-in-github",
        "colab_type": "text"
      },
      "source": [
        "<a href=\"https://colab.research.google.com/github/Mara009/Reto-Python-Nodd3r/blob/main/Copia_Mara_21DaysOfPython.ipynb\" target=\"_parent\"><img src=\"https://colab.research.google.com/assets/colab-badge.svg\" alt=\"Open In Colab\"/></a>"
      ]
    },
    {
      "cell_type": "markdown",
      "metadata": {
        "id": "o5fJlB98WLTW"
      },
      "source": [
        "# **Reto 21 días para principiantes**\n"
      ]
    },
    {
      "cell_type": "markdown",
      "metadata": {
        "id": "QOXPPHZwWQQK"
      },
      "source": [
        "Python, un lenguaje de programación versátil y ampliamente utilizado, se ha convertido en una herramienta esencial en el kit de cualquier desarrollador de software. Su sintaxis simple y legible, combinada con una amplia gama de bibliotecas y frameworks, lo convierte en una elección ideal tanto para principiantes como para programadores experimentados."
      ]
    },
    {
      "cell_type": "markdown",
      "metadata": {
        "id": "Nl9zItRoHD8R"
      },
      "source": [
        "## **Antes de empezar**"
      ]
    },
    {
      "cell_type": "markdown",
      "metadata": {
        "id": "fjYujTlJHI94"
      },
      "source": [
        "Aprende cómo usar esta herramienta de trabajo, Google Colab.\n",
        "\n",
        "Ver lecciones aquí:\n",
        "\n",
        "https://nodd3r.com/masters/master-data-science/courses/programacion-python/theory/como-usar-google-colab"
      ]
    },
    {
      "cell_type": "markdown",
      "metadata": {
        "id": "METGVZTKu-Pu"
      },
      "source": [
        "## **Día 0. Ver sesión 1 Minibootcamp Python**\n",
        "\n",
        "En este enlace, podrás ver la sesión 1 del minibootcamp de Python.\n",
        "\n",
        "Esta sesión te ayudará a entender los conceptos básicos de Python y a ver ejercicios resueltos.\n",
        "\n",
        "\n",
        "[Sesión 1 minibootcamp Python](https://nodd3r.com/masters/masterclass/courses/minibootcamp-python/theory/sesion-1-teoria-practica-intro-python)"
      ]
    },
    {
      "cell_type": "markdown",
      "metadata": {
        "id": "2qXx015VTbkF"
      },
      "source": [
        "\n",
        "# **Día 1.Imprimir por pantalla (Nivel 0)**\n",
        "Imprime por pantalla tu primer ‘Hola mundo’ <br>\n",
        "¡Sigue practicando con el print, prueba tu nombre, ciudad y otros datos que quieras!\n",
        "\n",
        "Link a teoría:\n",
        "https://nodd3r.com/masters/master-data-science/courses/programacion-python/theory/parte-1-de-sintaxis-basica\n"
      ]
    },
    {
      "cell_type": "markdown",
      "metadata": {
        "id": "w8tsNU1a5jL5"
      },
      "source": [
        "**Ejercicio**:\n",
        "Printa los siguientes casos"
      ]
    },
    {
      "cell_type": "code",
      "execution_count": null,
      "metadata": {
        "colab": {
          "base_uri": "https://localhost:8080/"
        },
        "id": "GBlZGNVDTa31",
        "outputId": "1c245a3b-34b9-410f-9d4b-35960e2a1914"
      },
      "outputs": [
        {
          "name": "stdout",
          "output_type": "stream",
          "text": [
            "Hola Mundo\n"
          ]
        }
      ],
      "source": [
        "# Crea el codigo del tu primer hola mundo\n",
        "print (\"Hola Mundo\")\n"
      ]
    },
    {
      "cell_type": "code",
      "execution_count": null,
      "metadata": {
        "colab": {
          "base_uri": "https://localhost:8080/"
        },
        "id": "5EWpMzsJTxSF",
        "outputId": "62f08bfa-b310-4688-e381-ba8d2f4822b9"
      },
      "outputs": [
        {
          "output_type": "stream",
          "name": "stdout",
          "text": [
            "Holaa\n",
            "Adiós\n",
            "Hola soy Maravillas trabajo en la ciudad de Valencia\n",
            "Hola soy  Maravillas  trabajo en la ciudad de Valencia\n"
          ]
        }
      ],
      "source": [
        "#Imprime por pantalla datos para presentarte\n",
        "#Creamos variables y les asignamos\n",
        "\n",
        "print('Holaa')\n",
        "print('Adiós')\n",
        "\n",
        "\n",
        "name = \"Maravillas\"\n",
        "ciudad = \"Valencia\"\n",
        "print (f\"Hola soy {name} trabajo en la ciudad de {ciudad}\")\n",
        "print (\"Hola soy \", (name), \" trabajo en la ciudad de\", (ciudad))\n",
        "\n",
        "## (DUDA de la teoría):\n",
        "# print (\"Hola soy: \"+(name), \"trabajo en la ciudad de \" (ciudad))\n"
      ]
    },
    {
      "cell_type": "code",
      "execution_count": null,
      "metadata": {
        "colab": {
          "base_uri": "https://localhost:8080/"
        },
        "id": "y_lXRYRszqNV",
        "outputId": "53ba9418-72c9-4eff-af86-c1d504dc6561"
      },
      "outputs": [
        {
          "output_type": "stream",
          "name": "stdout",
          "text": [
            "Tengo másaños\n",
            "Tienes 40 años\n",
            "Tengo 40 años\n",
            "Me has dicho que tenías 40 años\n",
            "tengo  40 años\n"
          ]
        }
      ],
      "source": [
        "#Imprime por pantalla tu edad\n",
        "edad = \"más\"\n",
        "print(\"Tengo \"+ edad +\"años\")\n",
        "\n",
        "edad= 40\n",
        "#primera forma\n",
        "print ('Tienes {} años'.format (edad))\n",
        "#segunda forma\n",
        "print (f'Tengo {edad} años')\n",
        "#tercera forma\n",
        "print('Me has dicho que tenías %.f años'%edad)\n",
        "#otra forma\n",
        "print (\"tengo \", edad, \"años\")\n",
        "\n",
        "\n",
        "\n"
      ]
    },
    {
      "cell_type": "markdown",
      "metadata": {
        "id": "EaXokQzZqYzd"
      },
      "source": [
        "**Soluciones ejericicios día 1**\n",
        "\n",
        "Darle a \"Mostrar Código\""
      ]
    },
    {
      "cell_type": "code",
      "execution_count": null,
      "metadata": {
        "id": "gN_zLdyyprqJ",
        "colab": {
          "base_uri": "https://localhost:8080/"
        },
        "outputId": "eea0a283-c459-4b95-d132-600c0ed6478f"
      },
      "outputs": [
        {
          "output_type": "stream",
          "name": "stdout",
          "text": [
            "Hola Mundo\n",
            "Hola soy:  Christian  trabajo en  Nodd3r  en la ciudad de  Madrid\n",
            "<class 'int'>\n",
            "2\n"
          ]
        }
      ],
      "source": [
        "# @title Ver soluciones Día 1\n",
        "\n",
        "#1. Crea el codigo del tu primer hola mundo\n",
        "print('Hola Mundo')\n",
        "\n",
        "# -------------------------------------\n",
        "\n",
        "#2. Imprime por pantalla datos para presentarte\n",
        "#Creamos variables y les asignamos\n",
        "nombre = 'Christian'\n",
        "empresa = 'Nodd3r'\n",
        "ciudad = 'Madrid'\n",
        "\n",
        "print('Hola soy: ', (nombre), ' trabajo en ', (empresa),' en la ciudad de ', (ciudad))\n",
        "\n",
        "# -------------------------------------\n",
        "\n",
        "#3. Imprime por pantalla un numero\n",
        "numero_float =2\n",
        "print (type(numero_float))\n",
        "print (numero_float)\n",
        "\n",
        "\n",
        "\n"
      ]
    },
    {
      "cell_type": "markdown",
      "metadata": {
        "id": "h_SBIKIQWXVb"
      },
      "source": [
        "# **Día 2.Variables y Tipos de Datos Básicos (Nivel 0)**"
      ]
    },
    {
      "cell_type": "markdown",
      "metadata": {
        "id": "S9z-BCohWgpW"
      },
      "source": [
        "\n",
        "\n",
        "Aprende sobre variables y tipos de datos en Python (enteros, flotantes, cadenas).\n",
        "\n",
        "Link a teoría:https://nodd3r.com/masters/master-data-science/courses/programacion-python/theory/parte-2-de-sintaxis-basica"
      ]
    },
    {
      "cell_type": "markdown",
      "metadata": {
        "id": "PtUgNf4A5qqQ"
      },
      "source": [
        "**Ejercicio:**\n",
        "\n",
        "Escribe un programa que tome dos números como entrada y muestre su suma."
      ]
    },
    {
      "cell_type": "code",
      "execution_count": null,
      "metadata": {
        "colab": {
          "base_uri": "https://localhost:8080/"
        },
        "id": "mv0LMwdVWqkv",
        "outputId": "c02cbd82-e21b-4dba-96bf-5742913d0e84"
      },
      "outputs": [
        {
          "output_type": "stream",
          "name": "stdout",
          "text": [
            "la suma de a + b es:  8\n"
          ]
        }
      ],
      "source": [
        "# Escribe aquí tu código\n",
        "a=6\n",
        "b=2\n",
        "suma=a+b\n",
        "print ('la suma de a + b es: ', suma)\n",
        "\n"
      ]
    },
    {
      "cell_type": "markdown",
      "metadata": {
        "id": "X0foaQvpl53W"
      },
      "source": [
        "El ***input*** en Python es una función que se utiliza para recibir información o datos ingresados por el usuario a través del teclado. Funciona de la siguiente manera:\n",
        "\n",
        "Muestra un mensaje opcional al usuario, solicitando la entrada de datos.<br>\n",
        "El usuario escribe la información deseada en la consola y presiona \"Enter\".\n",
        "input toma lo que el usuario escribió y lo almacena en una variable en forma de texto (cadena de caracteres). <br>\n",
        "Por ejemplo, si tienes el siguiente código:"
      ]
    },
    {
      "cell_type": "code",
      "execution_count": null,
      "metadata": {
        "colab": {
          "base_uri": "https://localhost:8080/"
        },
        "id": "K88Jhs-lm24g",
        "outputId": "1e328d71-fa16-42f4-b676-9940b0cfecd0"
      },
      "outputs": [
        {
          "name": "stdout",
          "output_type": "stream",
          "text": [
            "Por favor, ingresa tu edad: 47\n",
            "La edad es: 47\n"
          ]
        }
      ],
      "source": [
        "edad = int(input(\"Por favor, ingresa tu edad: \"))\n",
        "print('La edad es:', edad)"
      ]
    },
    {
      "cell_type": "code",
      "execution_count": null,
      "metadata": {
        "cellView": "form",
        "id": "xOa26Oc3qWju"
      },
      "outputs": [],
      "source": [
        "# @title Soluciones día 2\n",
        "\n",
        "#4. Escribe un programa que tome dos números como entrada y muestre su suma.\n",
        "num1 = 5\n",
        "num2 = 3\n",
        "suma = num1 + num2\n",
        "print(\"La suma es:\", suma)\n",
        "\n",
        "edad = input(\"Por favor, ingresa tu edad: \")\n",
        "print('La edad es:')"
      ]
    },
    {
      "cell_type": "markdown",
      "metadata": {
        "id": "a94bvMxfxw8b"
      },
      "source": [
        "# **Día 3. Variables y tipos de datos (nivel 0)**"
      ]
    },
    {
      "cell_type": "markdown",
      "metadata": {
        "id": "A-BN4jYt52nI"
      },
      "source": [
        "**Ejercicio:**\n",
        "\n",
        "Crea un programa en el que se tenga una variable llamada nombre y luego le dé la bienvenida utilizando su nombre. Por ejemplo, \"Hola, [nombre]\"."
      ]
    },
    {
      "cell_type": "code",
      "execution_count": null,
      "metadata": {
        "colab": {
          "base_uri": "https://localhost:8080/"
        },
        "id": "qJnLOIg5Wsvy",
        "outputId": "7f12c343-8b9e-4437-d0cb-951d682741c2"
      },
      "outputs": [
        {
          "name": "stdout",
          "output_type": "stream",
          "text": [
            "introduce tu nombre: Mara\n",
            "Hola,  Mara\n"
          ]
        }
      ],
      "source": [
        "# Escribe aquí tu código\n",
        "\n",
        "nombre = str(input (\"introduce tu nombre: \"))\n",
        "print (\"Hola, \", nombre)\n"
      ]
    },
    {
      "cell_type": "markdown",
      "metadata": {
        "id": "Q8wdJP9hqzir"
      },
      "source": [
        "**Ver solucion Día 3**"
      ]
    },
    {
      "cell_type": "code",
      "execution_count": null,
      "metadata": {
        "colab": {
          "base_uri": "https://localhost:8080/"
        },
        "id": "lK_zF9s5q2Av",
        "outputId": "58fed1f2-6fde-4403-b1ac-288ca06207ee"
      },
      "outputs": [
        {
          "output_type": "stream",
          "name": "stdout",
          "text": [
            "Ingresa tu nombre: ana\n",
            "Hola, ana\n"
          ]
        }
      ],
      "source": [
        "# @title Solución Día 3\n",
        "\n",
        "#5. Crea un programa en el que se tenga una variable llamada nombre y luego le dé la bienvenida utilizando su nombre. Por ejemplo, \"Hola, [nombre]\".\n",
        "# Solicitar al usuario que ingrese su nombre\n",
        "nombre = str(input(\"Ingresa tu nombre: \"))\n",
        "\n",
        "# Mostrar el saludo utilizando el nombre\n",
        "print (f\"Hola, {nombre}\" )\n"
      ]
    },
    {
      "cell_type": "markdown",
      "metadata": {
        "id": "cCysXp4TXv5M"
      },
      "source": [
        "# **Día 4. Operadores (Nivel 1)**"
      ]
    },
    {
      "cell_type": "markdown",
      "metadata": {
        "id": "UPsxorH2X7VB"
      },
      "source": [
        "Explora operadores aritméticos, de comparación y lógicos.\n",
        "\n",
        "Link a teoría:\n",
        "https://nodd3r.com/masters/master-data-science/courses/programacion-python/theory/operaciones-en-python\n",
        "\n",
        "\n",
        "\n"
      ]
    },
    {
      "cell_type": "markdown",
      "metadata": {
        "id": "b4sGp7mz525I"
      },
      "source": [
        "**Ejercicio:**\n",
        "\n",
        "Crea un programa que calcule el área de un triángulo dado su base y altura."
      ]
    },
    {
      "cell_type": "code",
      "execution_count": null,
      "metadata": {
        "colab": {
          "base_uri": "https://localhost:8080/"
        },
        "id": "CEfxkxHgX6ep",
        "outputId": "7682db66-48a0-4287-e27a-cc6c019f2681"
      },
      "outputs": [
        {
          "name": "stdout",
          "output_type": "stream",
          "text": [
            "el área del triángulo es  12.0 cm2\n"
          ]
        }
      ],
      "source": [
        "# Escribe aquí tu código\n",
        "b = 6\n",
        "h = 4\n",
        "area = b*h/2\n",
        "\n",
        "print (\"el área del triángulo es \", area, \"cm2\")\n",
        "\n",
        "# otra forma"
      ]
    },
    {
      "cell_type": "code",
      "execution_count": null,
      "metadata": {
        "cellView": "form",
        "id": "ia6lXdt9rt78"
      },
      "outputs": [],
      "source": [
        "# @title Solución Día 4\n",
        "\n",
        "#6. Crea un programa que calcule el área de un triángulo dado su base y altura.\n",
        "base = 4\n",
        "altura = 5\n",
        "area = (base * altura) / 2\n",
        "print(\"El área del triángulo es:\", area)\n",
        "\n"
      ]
    },
    {
      "cell_type": "markdown",
      "metadata": {
        "id": "5ne0aMtHyA_R"
      },
      "source": [
        "# **Día 5. Operadores (Nivel 1)**\n"
      ]
    },
    {
      "cell_type": "markdown",
      "metadata": {
        "id": "Dgy4rvGk5Ykt"
      },
      "source": [
        "**Ejercicio:**\n",
        "\n",
        "Crea un programa que calcule el promedio de tres números ingresados por el usuario y lo muestre en pantalla."
      ]
    },
    {
      "cell_type": "code",
      "execution_count": null,
      "metadata": {
        "colab": {
          "base_uri": "https://localhost:8080/"
        },
        "id": "f29333TCYG17",
        "outputId": "6bbd29a8-47c3-495c-8594-1958b8490f3e"
      },
      "outputs": [
        {
          "output_type": "stream",
          "name": "stdout",
          "text": [
            "Introduce número 1: 6\n",
            "Introduce número 2: 2\n",
            "Introduce número 3: 4\n",
            "el promedio de a,b y c es 4.0\n"
          ]
        }
      ],
      "source": [
        "# Escribe aquí tu código\n",
        "a = int(input(\"Introduce número 1: \" ))\n",
        "b = int(input(\"Introduce número 2: \" ))\n",
        "c = int(input(\"Introduce número 3: \" ))\n",
        "promedio = (a+b+c)/3\n",
        "print (\"el promedio de a,b y c es\", promedio)"
      ]
    },
    {
      "cell_type": "code",
      "execution_count": null,
      "metadata": {
        "id": "d6cl1hKZrzpD"
      },
      "outputs": [],
      "source": [
        "# @title Solución Día 5\n",
        "\n",
        "#7. Crea un programa que calcule el promedio de tres números ingresados por el usuario y lo muestre en pantalla\n",
        "# Solicitar al usuario que ingrese los tres números\n",
        "num1 = float(input(\"Ingresa el primer número: \"))\n",
        "num2 = float(input(\"Ingresa el segundo número: \"))\n",
        "num3 = float(input(\"Ingresa el tercer número: \"))\n",
        "\n",
        "# Calcular el promedio\n",
        "promedio = (num1 + num2 + num3) / 3\n",
        "\n",
        "# Mostrar el resultado\n",
        "print(f\"El promedio de {num1}, {num2} y {num3} es igual a: {promedio}\")"
      ]
    },
    {
      "cell_type": "markdown",
      "metadata": {
        "id": "XKDM3MHYYOpL"
      },
      "source": [
        "# **Día 6.Strings y Operaciones con Strings (Nivel 1)**"
      ]
    },
    {
      "cell_type": "code",
      "execution_count": null,
      "metadata": {
        "colab": {
          "base_uri": "https://localhost:8080/"
        },
        "id": "mcIKD-N4KU5m",
        "outputId": "8197d49f-77f6-40af-f40c-3bb85ffd377d"
      },
      "outputs": [
        {
          "output_type": "stream",
          "name": "stdout",
          "text": [
            "modulo:  2\n"
          ]
        }
      ],
      "source": [
        "# DUDA\n",
        "modulo = 6%4  #saca el resto\n",
        "print (\"modulo: \", modulo)"
      ]
    },
    {
      "cell_type": "markdown",
      "metadata": {
        "id": "JVzemDWtYUkE"
      },
      "source": [
        "Aprende a trabajar con cadenas de texto en Python.\n",
        "\n",
        "\n",
        "\n"
      ]
    },
    {
      "cell_type": "markdown",
      "metadata": {
        "id": "eZMVL70j5TXE"
      },
      "source": [
        "\n",
        "\n",
        "```\n",
        "# Tiene formato de código\n",
        "```\n",
        "\n",
        "**Ejercicio: 6**\n",
        "\n",
        "Escribe un programa que cuente cuántas veces aparece una letra específica en una cadena."
      ]
    },
    {
      "cell_type": "code",
      "execution_count": null,
      "metadata": {
        "id": "fKZWrDyVYRyJ",
        "colab": {
          "base_uri": "https://localhost:8080/"
        },
        "outputId": "49dbc362-e7f5-40b5-c511-16e6581314e4"
      },
      "outputs": [
        {
          "output_type": "stream",
          "name": "stdout",
          "text": [
            "4\n"
          ]
        }
      ],
      "source": [
        "# Escribe aquí tu código\n",
        "cadena = \"hola, hola hola, hoy es el día que te conocí\"\n",
        "contar_h = cadena.count('h')\n",
        "print (contar_h)\n"
      ]
    },
    {
      "cell_type": "code",
      "execution_count": null,
      "metadata": {
        "id": "jgqZ82lxr7GJ",
        "colab": {
          "base_uri": "https://localhost:8080/"
        },
        "outputId": "bc11460c-28ce-4a1a-802b-006543210320"
      },
      "outputs": [
        {
          "output_type": "stream",
          "name": "stdout",
          "text": [
            "La letra 'o' aparece 2 veces.\n"
          ]
        }
      ],
      "source": [
        "# @title Solución Día 6\n",
        "\n",
        "#8. Escribe un programa que cuente cuántas veces aparece una letra específica en una cadena.\n",
        "cadena = \"¡Hola, mundo!\"\n",
        "letra = \"o\"\n",
        "conteo = cadena.count(letra)\n",
        "print(\"La letra '{}' aparece {} veces.\".format(letra, conteo))\n",
        "\n"
      ]
    },
    {
      "cell_type": "markdown",
      "metadata": {
        "id": "ctYW-C2oyO4n"
      },
      "source": [
        "# **Día 7.Strings y operaciones (Nivel 1)**"
      ]
    },
    {
      "cell_type": "markdown",
      "source": [
        "![image.png](data:image/png;base64,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)"
      ],
      "metadata": {
        "id": "U_vX0y205Q1R"
      }
    },
    {
      "cell_type": "markdown",
      "metadata": {
        "id": "nfhnsVXmPXtG"
      },
      "source": [
        "En el siguiente ejercicio debes usar el método len() para la longuitud de la cadena"
      ]
    },
    {
      "cell_type": "markdown",
      "metadata": {
        "id": "Tzce6HA15L7S"
      },
      "source": [
        "**Ejercicio:**\n",
        "\n",
        "Determinar la longitud de un string"
      ]
    },
    {
      "cell_type": "code",
      "execution_count": null,
      "metadata": {
        "id": "m2xySen8EG8G",
        "colab": {
          "base_uri": "https://localhost:8080/"
        },
        "outputId": "5e61a41b-87df-4f98-8df7-c2df05b8bf99"
      },
      "outputs": [
        {
          "output_type": "stream",
          "name": "stdout",
          "text": [
            "22\n",
            "la longitud de la palabra es 22\n"
          ]
        }
      ],
      "source": [
        "# Escribe aquí tu código\n",
        "frase = (\"estamos de celebración\")\n",
        "longitud = len(frase)\n",
        "print (longitud)\n",
        "print (\"la longitud de la palabra es\", longitud)\n",
        "\n"
      ]
    },
    {
      "cell_type": "code",
      "execution_count": null,
      "metadata": {
        "id": "nqmB8osFsoOa"
      },
      "outputs": [],
      "source": [
        "# @title Solución Día 7\n",
        "\n",
        "#9. Determinar la Longitud de un string\n",
        "# Solicitar al usuario ingresar una palabra\n",
        "palabra = input(\"Ingresa una palabra: \")\n",
        "\n",
        "# Calcular y mostrar la longitud de la palabra\n",
        "longitud = len(palabra)\n",
        "print(f\"La longitud de la palabra '{palabra}' es {longitud}.\")"
      ]
    },
    {
      "cell_type": "markdown",
      "metadata": {
        "id": "Dv_GRvzIs_1p"
      },
      "source": [
        "## **Ver Sesión 2 Minibootcamp Python**\n",
        "\n",
        "En esta sesión aprenderás:\n",
        "- If-Else\n",
        "- Bucles for\n",
        "- Bucles while\n",
        "- Funciones\n",
        "- Listas y tuplas\n",
        "- Diccionarios\n",
        "\n",
        "Acceso a la sesión:\n",
        "[Sesión 2 Minibootcamp Python](https://nodd3r.com/masters/masterclass/courses/minibootcamp-python/theory/sesion-2-teoria-practica-python-intermedio)"
      ]
    },
    {
      "cell_type": "markdown",
      "metadata": {
        "id": "FoXyEIvFYgqK"
      },
      "source": [
        "# **Día 8. Bucles - For y While (Nivel 1)**\n"
      ]
    },
    {
      "cell_type": "markdown",
      "metadata": {
        "id": "26EuxkcDYlo2"
      },
      "source": [
        "Introdúcete en los bucles for y while.\n",
        "\n",
        "Link bucles: https://nodd3r.com/masters/master-data-science/courses/programacion-python/theory/que-es-un-bucle-for"
      ]
    },
    {
      "cell_type": "markdown",
      "metadata": {
        "id": "XhKI0orA5DtV"
      },
      "source": [
        "**Ejercicio:**\n",
        "\n",
        "Crea un programa que imprima los números del 1 al 10 utilizando un bucle."
      ]
    },
    {
      "cell_type": "code",
      "execution_count": null,
      "metadata": {
        "colab": {
          "base_uri": "https://localhost:8080/"
        },
        "id": "Bz4S9lvXYpeN",
        "outputId": "2fec5230-8f98-4943-cbd7-7513bf6c39bf"
      },
      "outputs": [
        {
          "output_type": "stream",
          "name": "stdout",
          "text": [
            "Números:  1\n",
            "Números:  2\n",
            "Números:  3\n",
            "Números:  4\n",
            "Números:  5\n",
            "Números:  6\n",
            "Números:  7\n",
            "Números:  8\n",
            "Números:  9\n",
            "Números:  1\n",
            "Números:  0\n",
            "M\n",
            "a\n",
            "r\n",
            "a\n",
            "otro\n",
            "M\n",
            "a\n",
            "r\n",
            "a\n"
          ]
        }
      ],
      "source": [
        "\n",
        "# Escribe aquí tu código Ejercicio\n",
        "string = \"12345678910\"\n",
        "for numeros in string:\n",
        "  print (\"Números: \", numeros )\n",
        "\n",
        "# mis apuntes\n",
        "string = \"Mara\"\n",
        "for nombre in string:\n",
        "  print(nombre)\n",
        "\n",
        "print (\"otro\")\n",
        "\n",
        "string = \"Mara\"\n",
        "for letra in string:\n",
        "  print(letra)"
      ]
    },
    {
      "cell_type": "code",
      "execution_count": null,
      "metadata": {
        "colab": {
          "base_uri": "https://localhost:8080/"
        },
        "id": "RVPTO2lksu_g",
        "outputId": "89402063-1393-4887-f1f4-a93550f4bdb6"
      },
      "outputs": [
        {
          "name": "stdout",
          "output_type": "stream",
          "text": [
            "1\n",
            "2\n",
            "3\n",
            "4\n",
            "5\n",
            "6\n",
            "7\n",
            "8\n",
            "9\n",
            "10\n"
          ]
        }
      ],
      "source": [
        "# @title Solución Día 8\n",
        "\n",
        "#10 Crea un programa que imprima los números del 1 al 10 utilizando un bucle.\n",
        "\n",
        "# Utilizar un bucle for para imprimir números del 1 al 10\n",
        "for numero in range(1, 11):\n",
        "    print(numero)"
      ]
    },
    {
      "cell_type": "markdown",
      "metadata": {
        "id": "QLwoOJk4yWS4"
      },
      "source": [
        "# **Día 9. Bucles - For y While (Nivel 1)**\n"
      ]
    },
    {
      "cell_type": "markdown",
      "metadata": {
        "id": "tYanM-H14zUK"
      },
      "source": [
        "**Ejercicio**:\n",
        "Adivina el número: Pide al usuario adivinar un número y sigue pidiendo hasta que lo adivine (el número a adivinar será definido como una variable inicial).\n",
        "\n",
        "Link bucles while: https://nodd3r.com/masters/master-data-science/courses/programacion-python/theory/que-es-un-bucle-while"
      ]
    },
    {
      "cell_type": "code",
      "execution_count": null,
      "metadata": {
        "colab": {
          "base_uri": "https://localhost:8080/"
        },
        "id": "9NtNWLy4Ys6O",
        "outputId": "0403531f-bb10-4927-b676-404c34d0d77e"
      },
      "outputs": [
        {
          "output_type": "stream",
          "name": "stdout",
          "text": [
            "dime un número7\n",
            "no es correcto, dime otro número\n",
            "dime un número9\n",
            "no es correcto, dime otro número\n",
            "dime un número2\n",
            "no es correcto, dime otro número\n",
            "dime un número5\n",
            "es correcto. El número que buscabas es el  5\n"
          ]
        }
      ],
      "source": [
        "# Escribe aquí tu código. RESUELTO/SOLUCIÓN\n",
        "numero = 5\n",
        "acertar = int(input(\"dime un número\"))\n",
        "\n",
        "while acertar != 5:\n",
        "  print (\"no es correcto, dime otro número\")\n",
        "  acertar = int(input(\"dime un número\"))\n",
        "else:\n",
        "  print (\"es correcto. El número que buscabas es el \", numero)\n",
        "\n",
        "\n"
      ]
    },
    {
      "cell_type": "code",
      "source": [
        "#intento anterior. error de planteamiento\n",
        "a=5\n",
        "b= int(input(\"Dime un número: \"))\n",
        "\n",
        "if a==b:\n",
        "  print (\"has acertado!\")\n",
        "else:\n",
        "  print (\"no es correcto\")\n",
        "  int(input(\"Dime un número: \"))"
      ],
      "metadata": {
        "colab": {
          "base_uri": "https://localhost:8080/"
        },
        "id": "HKPf36ikENt_",
        "outputId": "2a6bdffa-68e3-4b96-c4c8-e0f1f2ab832d"
      },
      "execution_count": null,
      "outputs": [
        {
          "name": "stdout",
          "output_type": "stream",
          "text": [
            "Dime un número: 6\n",
            "no es correcto\n",
            "Dime un número: 7\n"
          ]
        }
      ]
    },
    {
      "cell_type": "code",
      "execution_count": null,
      "metadata": {
        "colab": {
          "base_uri": "https://localhost:8080/"
        },
        "id": "9y-XpBrUlmPz",
        "outputId": "bb28bd3c-8672-4342-f98a-d943c7f7a0c5"
      },
      "outputs": [
        {
          "name": "stdout",
          "output_type": "stream",
          "text": [
            "Dime un número: 4\n",
            "no es correcto\n",
            "Dime un número: 3\n",
            "no es correcto\n",
            "Dime un número: 9\n",
            "no es correcto\n",
            "Dime un número: 5\n",
            "es correcto\n"
          ]
        }
      ],
      "source": [
        "# Escribe aquí tu código\n",
        "a=5\n",
        "b= int(input(\"Dime un número: \"))\n",
        "while a != b:\n",
        "  print (\"no es correcto\")\n",
        "  b=int(input(\"Dime un número: \"))\n",
        "print (\"es correcto\")\n",
        "\n"
      ]
    },
    {
      "cell_type": "code",
      "execution_count": null,
      "metadata": {
        "id": "oTCGAR96orLI"
      },
      "outputs": [],
      "source": [
        "numero_secreto = 42\n",
        "while adivinanza != numero_secreto:\n",
        "    print(\"Incorrecto. Intenta de nuevo.\")\n",
        "    adivinanza = int(input(\"Adivina el número: \"))\n",
        "print(\"¡Felicitaciones! Adivinaste el número correcto:\", numero_secreto)"
      ]
    },
    {
      "cell_type": "code",
      "execution_count": null,
      "metadata": {
        "colab": {
          "base_uri": "https://localhost:8080/"
        },
        "id": "LPTDab3vtcMO",
        "outputId": "92ccecf6-aadb-4f07-b817-34ca3f76ab1a"
      },
      "outputs": [
        {
          "output_type": "stream",
          "name": "stdout",
          "text": [
            "Adivina el número: 45\n",
            "Incorrecto. Intenta de nuevo.\n",
            "Adivina el número: 6\n",
            "Incorrecto. Intenta de nuevo.\n",
            "Adivina el número: 42\n",
            "¡Felicitaciones! Adivinaste el número correcto: 42\n"
          ]
        }
      ],
      "source": [
        "# @title Solución Día 9\n",
        "\n",
        "#11. Adivina el número: Pide al usuario adivinar un número y sigue pidiendo hasta que lo adivine.(el número a adivinar será definido como una variable inicial)\n",
        "# Definir el número a adivinar\n",
        "numero_secreto = 42\n",
        "\n",
        "# Pedir al usuario que adivine el número\n",
        "adivinanza = int(input(\"Adivina el número: \"))\n",
        "\n",
        "# Iniciar un bucle while para seguir pidiendo hasta que se adivine el número\n",
        "while adivinanza != numero_secreto:\n",
        "    print(\"Incorrecto. Intenta de nuevo.\")\n",
        "    adivinanza = int(input(\"Adivina el número: \"))\n",
        "\n",
        "# Si llegamos aquí, el usuario adivinó correctamente\n",
        "print(\"¡Felicitaciones! Adivinaste el número correcto:\", numero_secreto)\n",
        "\n",
        "# -----------------\n",
        "\n",
        "\n"
      ]
    },
    {
      "cell_type": "code",
      "source": [
        "# otro ejemplo\n",
        "\n",
        "# 1. Pidas un número a un usuario\n",
        "num_user = int(input('Dime un numero:'))\n",
        "# 2. Crear el número correcto antes en una variable\n",
        "num_check = 5\n",
        "\n",
        "while num_user != num_check:\n",
        "  print('No es correcto')\n",
        "  num_user = int(input('Dime un numer:'))\n",
        "\n",
        "\n",
        "print('Has acertado!')"
      ],
      "metadata": {
        "id": "TXOJFj5BZCo2"
      },
      "execution_count": null,
      "outputs": []
    },
    {
      "cell_type": "markdown",
      "metadata": {
        "id": "hXOUltepQi7v"
      },
      "source": [
        "# **Día 10. Condicionales y sentencias if-else (Nivel 1)**\n",
        "\n",
        "**Ejercicio**\n",
        "Escribe un programa en Python que solicite al usuario ingresar un número.\n",
        "\n",
        "Luego, verifica si el número se encuentra dentro del rango de 10 a 50 (inclusive).\n",
        "\n",
        "Si el número está dentro de ese rango, el programa deberá imprimir \"El número está en el rango de 10 a 50\".\n",
        "\n",
        "En caso contrario, imprimirá \"El número está fuera del rango de 10 a 50\".\n",
        "\n",
        "Ejecuta el programa y verifica si un número dado se encuentra dentro del rango especificado.\n",
        "\n",
        "Link a teoría:https://nodd3r.com/masters/master-data-science/courses/programacion-python/theory/sentencia-if-else"
      ]
    },
    {
      "cell_type": "code",
      "execution_count": null,
      "metadata": {
        "colab": {
          "base_uri": "https://localhost:8080/"
        },
        "id": "1rh7G4heQFHD",
        "outputId": "7db9a5df-7123-46e4-dac4-462f50ece890"
      },
      "outputs": [
        {
          "name": "stdout",
          "output_type": "stream",
          "text": [
            "hola mundo\n",
            "el perrito no se va a curar\n"
          ]
        }
      ],
      "source": [
        "#Ejemplo de la teoría Día 10. Condicionales y sentencias if-else (Nivel 1)\n",
        "if 3<4 :\n",
        "    print (\"hola mundo\")\n",
        "\n",
        "pastilla_tomada = False\n",
        "if  pastilla_tomada:\n",
        "  print (\"el perrito se va a curar\")\n",
        "else :\n",
        "  print (\"el perrito no se va a curar\")"
      ]
    },
    {
      "cell_type": "markdown",
      "source": [
        "**Ejercicio 10**\n",
        "Escribe un programa en Python que solicite al usuario ingresar un número.\n",
        "\n",
        "Luego, verifica si el número se encuentra dentro del rango de 10 a 50 (inclusive).\n",
        "\n",
        "Si el número está dentro de ese rango, el programa deberá imprimir \"El número está en el rango de 10 a 50\".\n",
        "\n",
        "En caso contrario, imprimirá \"El número está fuera del rango de 10 a 50\".\n",
        "\n",
        "Ejecuta el programa y verifica si un número dado se encuentra dentro del rango especificado.\n",
        "**texto en negrita**"
      ],
      "metadata": {
        "id": "G0_XIp2pbmm5"
      }
    },
    {
      "cell_type": "code",
      "source": [
        "# Escribe aquí el código. RESUELTO (mejor con menor igual)\n",
        "numero = int(input('Dime un numero:'))\n",
        "\n",
        "if numero >= 10 and numero <= 50:\n",
        "  print (\"El número está en el rango de 10 a 50\")\n",
        "else:\n",
        "      print (\"El número está fuera del rango de 10 a 50\")"
      ],
      "metadata": {
        "colab": {
          "base_uri": "https://localhost:8080/"
        },
        "id": "bMtVQzV_c-cA",
        "outputId": "56c6337c-0805-4fdb-e218-475815379fde"
      },
      "execution_count": null,
      "outputs": [
        {
          "output_type": "stream",
          "name": "stdout",
          "text": [
            "Dime un numero:10\n",
            "El número está en el rango de 10 a 50\n"
          ]
        }
      ]
    },
    {
      "cell_type": "code",
      "execution_count": null,
      "metadata": {
        "id": "s9SaYY5bQZeo",
        "colab": {
          "base_uri": "https://localhost:8080/"
        },
        "outputId": "987b82d1-7b90-43f9-b4ec-23f7a78116be"
      },
      "outputs": [
        {
          "output_type": "stream",
          "name": "stdout",
          "text": [
            "Dime un numero:10\n",
            "El número está en el rango de 10 a 50\n"
          ]
        }
      ],
      "source": [
        "# Escribe aquí el código. solución 2\n",
        "\n",
        "numero = int(input('Dime un numero:'))\n",
        "\n",
        "if numero > 9 and numero < 51:\n",
        "  print (\"El número está en el rango de 10 a 50\")\n",
        "else:\n",
        "      print (\"El número está fuera del rango de 10 a 50\")\n"
      ]
    },
    {
      "cell_type": "code",
      "execution_count": null,
      "metadata": {
        "cellView": "form",
        "id": "et3I64KMt0Wm"
      },
      "outputs": [],
      "source": [
        "# @title Solución Día 10\n",
        "\n",
        "#12. Determinar si un número está en un rango específico\n",
        "\n",
        "# Solicitar al usuario ingresar un número\n",
        "numero_ingresado = float(input(\"Ingrese un número: \"))\n",
        "\n",
        "# Verificar si el número está dentro del rango de 10 a 50\n",
        "if 10 <= numero_ingresado <= 50:\n",
        "    print(\"El número está en el rango de 10 a 50.\")\n",
        "else:\n",
        "    print(\"El número está fuera del rango de 10 a 50.\")\n"
      ]
    },
    {
      "cell_type": "markdown",
      "metadata": {
        "id": "sDVTgAWcY0XC"
      },
      "source": [
        "# **Día 11. Encuentra errores y practica (nivel 1)**"
      ]
    },
    {
      "cell_type": "markdown",
      "metadata": {
        "id": "Hs1kLsU9Y9KE"
      },
      "source": [
        "En programación es muy importante saber gestionar los errores cotidianos y tener presente las estructuras"
      ]
    },
    {
      "cell_type": "markdown",
      "metadata": {
        "id": "yRV687JT4oFX"
      },
      "source": [
        "**Ejercicio:**\n",
        "Busca el error en los siguientes códigos y solucionalos:"
      ]
    },
    {
      "cell_type": "code",
      "execution_count": null,
      "metadata": {
        "id": "OooLVqydZAId",
        "colab": {
          "base_uri": "https://localhost:8080/",
          "height": 52
        },
        "outputId": "0fe18e09-94a0-450c-b551-2943c597259f"
      },
      "outputs": [
        {
          "output_type": "stream",
          "name": "stdout",
          "text": [
            "La suma de los números pares es: 30\n"
          ]
        },
        {
          "output_type": "execute_result",
          "data": {
            "text/plain": [
              "'\\nholaaaa\\n'"
            ],
            "application/vnd.google.colaboratory.intrinsic+json": {
              "type": "string"
            }
          },
          "metadata": {},
          "execution_count": 14
        }
      ],
      "source": [
        "#13 Busca el error en los siguientes códigos y solucionalos:\n",
        "\n",
        "#Ejercicio 1:\n",
        "total = 0\n",
        "for i in range(1, 11):\n",
        "  if i % 2 == 0:\n",
        "    total += i\n",
        "print(\"La suma de los números pares es:\", total)\n",
        "\n",
        "'''\n",
        "holaaaa\n",
        "'''''\n",
        "\n"
      ]
    },
    {
      "cell_type": "code",
      "execution_count": null,
      "metadata": {
        "colab": {
          "base_uri": "https://localhost:8080/"
        },
        "id": "nKXVSdD1ZL9_",
        "outputId": "8db3a280-de32-4f6a-d4f9-fbc08385aa9c"
      },
      "outputs": [
        {
          "output_type": "stream",
          "name": "stdout",
          "text": [
            "Tienes 20 años\n"
          ]
        }
      ],
      "source": [
        "#Ejercicio 2:\n",
        "edad = 20\n",
        "if edad == 20:\n",
        "    print(\"Tienes 20 años\")\n",
        "else:\n",
        "  print (\"no tienes 20 años\")"
      ]
    },
    {
      "cell_type": "code",
      "execution_count": null,
      "metadata": {
        "colab": {
          "base_uri": "https://localhost:8080/"
        },
        "id": "9xksimlWZRbb",
        "outputId": "73242a98-0d62-4a2b-905e-dba93019b757"
      },
      "outputs": [
        {
          "output_type": "stream",
          "name": "stdout",
          "text": [
            "15\n"
          ]
        }
      ],
      "source": [
        "#Ejercicio 3:\n",
        "numero = 10\n",
        "cadena = \"5\"\n",
        "resultado = numero + int(cadena)\n",
        "print (resultado)\n",
        "\n",
        "#no se pueden sumar números y cadenas. pero se puede transforma el texto 5 en un número entero"
      ]
    },
    {
      "cell_type": "code",
      "execution_count": null,
      "metadata": {
        "colab": {
          "base_uri": "https://localhost:8080/"
        },
        "id": "L-lYcYWOu_zh",
        "outputId": "4981bfb6-3f3a-4744-ecb8-f323872574b9"
      },
      "outputs": [
        {
          "name": "stdout",
          "output_type": "stream",
          "text": [
            "La suma de los números pares es: 30\n",
            "Tienes 20 años\n",
            "15\n"
          ]
        }
      ],
      "source": [
        "# @title Solución día 11\n",
        "\n",
        "# Ejercicio 1:\n",
        "# problemas de identación\n",
        "total = 0\n",
        "for i in range(1, 11):\n",
        "    if i % 2 == 0:\n",
        "        total += i\n",
        "\n",
        "print(\"La suma de los números pares es:\", total)\n",
        "\n",
        "# Ejercicio 2:\n",
        "# error en el operador \"=\" en el if, debería ser \"==\"\n",
        "edad = 20\n",
        "if edad == 20:\n",
        "    print(\"Tienes 20 años\")\n",
        "\n",
        "\n",
        "# Ejercicio 3:\n",
        "# no se puede sumar un entero con un string, convertir string a entero con int()\n",
        "numero = 10\n",
        "cadena = \"5\"\n",
        "resultado = numero + int(cadena)\n",
        "\n",
        "print(resultado)\n"
      ]
    },
    {
      "cell_type": "markdown",
      "metadata": {
        "id": "i4OodphiZVDQ"
      },
      "source": [
        "# **Día 12. Funciones (Nivel 2)**\n",
        "Comprende cómo definir y llamar a funciones en Python.\n",
        "\n",
        "Las funciones en Python son como pequeñas tareas o acciones que puedes definir y luego reutilizar en tu código. Imagina que tienes un conjunto de pasos que quieres realizar en varias partes de tu programa. En lugar de escribir esos pasos una y otra vez, puedes agruparlos en una función y darle un nombre descriptivo.\n",
        "\n",
        "**Definición de una función:** Primero, defines una función dando un nombre a la tarea que realizará. Por ejemplo, podrías crear una función llamada saludar para decir \"Hola\" a alguien.\n",
        "\n",
        "**Parámetros:** Puedes darle a tu función información para que trabaje. Estos datos se llaman parámetros y se colocan entre paréntesis después del nombre de la función. Por ejemplo, podrías pasar el nombre de una persona como parámetro a la función saludar.\n",
        "\n",
        "**Cuerpo de la función:** Aquí es donde escribes los pasos que la función realizará cuando sea llamada. En el caso de saludar, el cuerpo de la función contendría las instrucciones para imprimir \"Hola\" seguido del nombre que se proporcionó como parámetro.\n",
        "\n",
        "**Llamada a la función:** Cuando quieras ejecutar los pasos definidos en la función, simplemente llamas a la función por su nombre, pasando cualquier información necesaria como parámetros. En nuestro ejemplo, podrías llamar a saludar(\"Juan\") para decir \"Hola Juan\".\n",
        "\n",
        "` def nombre_fucion (parametros)`"
      ]
    },
    {
      "cell_type": "markdown",
      "metadata": {
        "id": "Ga7SOaZ5iAVc"
      },
      "source": [
        "Comprende cómo definir y llamar a funciones en Python.\n",
        "\n",
        "Link funciones: https://nodd3r.com/masters/master-data-science/courses/programacion-python/theory/que-son-las-funciones"
      ]
    },
    {
      "cell_type": "markdown",
      "metadata": {
        "id": "LTBA8AN94iNL"
      },
      "source": [
        "**Ejercicio:**\n",
        "Crea una función que calcule el área de un círculo dado su radio.\n"
      ]
    },
    {
      "cell_type": "code",
      "execution_count": null,
      "metadata": {
        "id": "q3aLBrq-iGmo",
        "colab": {
          "base_uri": "https://localhost:8080/"
        },
        "outputId": "55bf3e73-f1ce-4639-a7e2-01e4f52e239c"
      },
      "outputs": [
        {
          "output_type": "stream",
          "name": "stdout",
          "text": [
            "12.56\n"
          ]
        }
      ],
      "source": [
        "\n",
        "def calcula_radio (radio):\n",
        "  superficie = 3.14*(radio*radio)\n",
        "  print (superficie)\n",
        "\n",
        "radio = 2\n",
        "calcula_radio (radio)\n"
      ]
    },
    {
      "cell_type": "code",
      "execution_count": null,
      "metadata": {
        "cellView": "form",
        "id": "Xuf6ubbNv0wm"
      },
      "outputs": [],
      "source": [
        "# @title Solución  Día 12\n",
        "\n",
        "#14 Crea una función que calcule el área de un círculo dado su radio.\n",
        "def area_circulo(radio):\n",
        "    return 3.1416 * radio * radio\n",
        "\n",
        "radio = 2.5\n",
        "area = area_circulo(radio)\n",
        "print(\"El área del círculo es:\", area)\n"
      ]
    },
    {
      "cell_type": "markdown",
      "metadata": {
        "id": "r01Dho9jygFA"
      },
      "source": [
        "# **Día 13. Funciones (Nivel 2)**\n"
      ]
    },
    {
      "cell_type": "markdown",
      "metadata": {
        "id": "6nByi8pY4aSA"
      },
      "source": [
        "**Ejercicio:**\n",
        "Escribe una función llamada saludar(nombre) que tome un parámetro nombre.\n",
        "\n",
        "Esta función debe imprimir un saludo personalizado utilizando el nombre proporcionado como argumento.\n",
        "\n",
        "Llama a la función con el nombre \"Juan\" y verifica que se muestre el saludo."
      ]
    },
    {
      "cell_type": "code",
      "execution_count": null,
      "metadata": {
        "colab": {
          "base_uri": "https://localhost:8080/"
        },
        "id": "ZTDUkdkWiIpP",
        "outputId": "c8e35d5d-b7b9-4893-c96d-b65198743a2c"
      },
      "outputs": [
        {
          "name": "stdout",
          "output_type": "stream",
          "text": [
            "Hola juan\n"
          ]
        }
      ],
      "source": [
        "# Escribe aquí tu código\n",
        "def saludar (nombre=\"juan\"):\n",
        "  print (\"Hola \" + nombre)\n",
        "\n",
        "saludar ()"
      ]
    },
    {
      "cell_type": "code",
      "execution_count": null,
      "metadata": {
        "colab": {
          "base_uri": "https://localhost:8080/"
        },
        "id": "GJiNTuWLoPqp",
        "outputId": "3dd5b105-4f2a-4177-968c-311a0313f21d"
      },
      "outputs": [
        {
          "name": "stdout",
          "output_type": "stream",
          "text": [
            "Hola jose\n"
          ]
        }
      ],
      "source": [
        "# Escribe aquí tu código\n",
        "def saludar (nombre):\n",
        "  print (\"Hola \" + nombre)\n",
        "\n",
        "nombre = \"jose\"\n",
        "saludar (nombre)"
      ]
    },
    {
      "cell_type": "code",
      "execution_count": null,
      "metadata": {
        "id": "mDBrg5UHv7sY",
        "cellView": "form"
      },
      "outputs": [],
      "source": [
        "# @title Solución Día 13\n",
        "\n",
        "# 15 Escribe una función llamada saludar(nombre) que tome un parámetro nombre.\n",
        "# Esta función debe imprimir un saludo personalizado utilizando el nombre proporcionado como argumento.\n",
        "# Llama a la función con el nombre \"Juan\" y verifica que se muestre el saludo.\n",
        "\n",
        "# Definición de la función saludar con un parámetro nombre\n",
        "def saludar(nombre):\n",
        "    print(f\"¡Hola, {nombre}!\")\n",
        "\n",
        "# Llamada a la función con el nombre \"Juan\"\n",
        "saludar(\"Juan\")\n",
        "\n"
      ]
    },
    {
      "cell_type": "markdown",
      "metadata": {
        "id": "Ddw_pz3Ksa8f"
      },
      "source": []
    },
    {
      "cell_type": "code",
      "execution_count": null,
      "metadata": {
        "colab": {
          "base_uri": "https://localhost:8080/"
        },
        "id": "6G5omO0zpL6l",
        "outputId": "13f3c336-c14c-42d8-f602-11113e9d8d4e"
      },
      "outputs": [
        {
          "output_type": "stream",
          "name": "stdout",
          "text": [
            "potencia:  9\n"
          ]
        }
      ],
      "source": [
        "#potencia de dos números\n",
        "def potencia (num1, num2):\n",
        "  potencia = num1 ** num2\n",
        "  print (\"potencia: \", potencia)\n",
        "\n",
        "\n",
        "potencia (3,2)"
      ]
    },
    {
      "cell_type": "markdown",
      "metadata": {
        "id": "JyhJMA-vyinQ"
      },
      "source": [
        "# **Día 14. Funciones (Nivel 2)**\n"
      ]
    },
    {
      "cell_type": "markdown",
      "metadata": {
        "id": "Cg1UEfN84TLp"
      },
      "source": [
        "**Ejercicio:**\n",
        "Crea una función para contar la cantidad de palabras en una cadena de texto\n"
      ]
    },
    {
      "cell_type": "markdown",
      "metadata": {
        "id": "rvM3p_7LxzD7"
      },
      "source": [
        "IMPOSIBLE RESOLVERLO. NO TENGO CONOCIMIENTOS... :-("
      ]
    },
    {
      "cell_type": "code",
      "source": [
        "# Escribe aquí tu código\n",
        "def contar_espacios ():\n",
        "  espacios = (\"hola esta mañana he deayunado tostadas\".count(\" \"))\n",
        "  print (espacios+1)\n",
        "\n",
        "contar_espacios ()"
      ],
      "metadata": {
        "colab": {
          "base_uri": "https://localhost:8080/"
        },
        "id": "DDSTbaIjKSa8",
        "outputId": "74c5c84d-b887-4531-e9a0-5a458f9525e9"
      },
      "execution_count": null,
      "outputs": [
        {
          "output_type": "stream",
          "name": "stdout",
          "text": [
            "6\n"
          ]
        }
      ]
    },
    {
      "cell_type": "code",
      "source": [
        "#solución definiendo la variable frase\n",
        "def contar_espacios (frase):\n",
        "  espacios = frase.count(\" \")\n",
        "  print (\"el número de palabras es \", espacios+1)\n",
        "\n",
        "frase = \"hola esta mañana he deayunado tostadas de mantequilla\"\n",
        "contar_espacios (frase)"
      ],
      "metadata": {
        "colab": {
          "base_uri": "https://localhost:8080/"
        },
        "id": "6SE2MnRnMFEk",
        "outputId": "08aae092-0b66-48c7-e39c-721e09d94c6c"
      },
      "execution_count": null,
      "outputs": [
        {
          "output_type": "stream",
          "name": "stdout",
          "text": [
            "el número de palabras es  8\n"
          ]
        }
      ]
    },
    {
      "cell_type": "code",
      "execution_count": null,
      "metadata": {
        "colab": {
          "base_uri": "https://localhost:8080/"
        },
        "id": "zlb1ICBAwNvj",
        "outputId": "b321ab8a-b5b2-48ed-a49a-b2373086a5d4"
      },
      "outputs": [
        {
          "name": "stdout",
          "output_type": "stream",
          "text": [
            "La frase tiene 9 palabras.\n"
          ]
        }
      ],
      "source": [
        "# @title Solución Día 14\n",
        "\n",
        "#16 Crea una función para contar la cantidad de palabras en una cadena de texto\n",
        "def contar_palabras(texto):\n",
        "    palabras = texto.split()\n",
        "    return len(palabras)\n",
        "\n",
        "frase = \"Hola, esto es un ejemplo de conteo de palabras.\"\n",
        "cantidad_palabras = contar_palabras(frase)\n",
        "print(f\"La frase tiene {cantidad_palabras} palabras.\")\n",
        "\n"
      ]
    },
    {
      "cell_type": "markdown",
      "metadata": {
        "id": "aWBpvaDKigyZ"
      },
      "source": [
        "# **Día 15. Listas (Nivel 2)**\n",
        "\n",
        "\n",
        "\n",
        "*   Una lista es una colección ordenada y modificable de elementos en Python.\n",
        "*   Puedes crear una lista usando corchetes [] y separando los elementos por comas.\n",
        "*   Puedes acceder a los elementos de una lista mediante su índice (empezando desde 0).\n",
        "\n",
        "\n",
        "```\n",
        "mi_lista = [1, 2, 3, 4, 5]\n",
        "```\n",
        "\n",
        "Link listas: https://nodd3r.com/masters/master-data-science/courses/programacion-python/theory/que-son-las-listas"
      ]
    },
    {
      "cell_type": "code",
      "execution_count": null,
      "metadata": {
        "colab": {
          "base_uri": "https://localhost:8080/"
        },
        "id": "3H4LR0lViLyb",
        "outputId": "310e3d6b-71a3-4cf1-e110-35518682aa2f"
      },
      "outputs": [
        {
          "output_type": "stream",
          "name": "stdout",
          "text": [
            "['banana', 'fresa', 'manzana', 'cereza', 'mandarina']\n",
            "banana\n",
            "---mas ejemplos--------\n",
            "banana\n",
            "fresa\n",
            "manzana\n",
            "cereza\n",
            "mandarina\n"
          ]
        }
      ],
      "source": [
        "# Escribe aquí tu código\n",
        "frutas = [\"banana\", \"fresa\", \"manzana\", \"cereza\", \"mandarina\"]\n",
        "datos_usuario = [\"fernando\", 1.78, 34, True]\n",
        "\n",
        "print (frutas)\n",
        "print (frutas [0])\n",
        "frutas [0]\n",
        "frutas [1:4] #coge los valores desde el 2º hasta el 4º, sin coger el 4º, verdad?\n",
        "\n",
        "print (\"---mas ejemplos--------\")\n",
        "for valor in frutas:\n",
        "  print (valor)\n",
        "\n",
        "\n"
      ]
    },
    {
      "cell_type": "code",
      "source": [
        "#mas ejercicios de teoría\n",
        "#string = \"hola\", \"adios\", \"gracias\", \"por favor\"\n",
        "#lista_str = list (string)\n",
        "#print (lista_str)\n",
        "#end\n"
      ],
      "metadata": {
        "id": "zOuX6P65VZoo"
      },
      "execution_count": null,
      "outputs": []
    },
    {
      "cell_type": "markdown",
      "metadata": {
        "id": "VuCkTlGX0HXd"
      },
      "source": [
        "**Ejercicio:**\n",
        "Escribe un programa que sume todos los elementos de una lista de números"
      ]
    },
    {
      "cell_type": "code",
      "source": [
        "mi_lista = [1, 2, 3, 4, 5]\n",
        "suma = sum(mi_lista)\n",
        "print (suma)"
      ],
      "metadata": {
        "id": "sbwb0LdDVO9z",
        "colab": {
          "base_uri": "https://localhost:8080/"
        },
        "outputId": "3d700c45-a9f6-485f-ac56-0a5158bcd41e"
      },
      "execution_count": null,
      "outputs": [
        {
          "output_type": "stream",
          "name": "stdout",
          "text": [
            "15\n"
          ]
        }
      ]
    },
    {
      "cell_type": "code",
      "execution_count": null,
      "metadata": {
        "cellView": "form",
        "id": "B63pclNCwVXF"
      },
      "outputs": [],
      "source": [
        "# @title Solución Día 15\n",
        "\n",
        "#17 Escribe un programa que sume todos los elementos de una lista de números.\n",
        "\n",
        "# Definir una lista de números\n",
        "numeros = [1, 2, 3, 4, 5]\n",
        "\n",
        "# Inicializar una variable para almacenar la suma\n",
        "suma = 0\n",
        "\n",
        "# Iterar a través de la lista y sumar cada elemento a la variable suma\n",
        "for numero in numeros:\n",
        "    suma += numero\n",
        "\n",
        "# Imprimir el resultado\n",
        "print(\"La suma de los números es:\", suma)\n"
      ]
    },
    {
      "cell_type": "markdown",
      "metadata": {
        "id": "6lAh56EXwo-D"
      },
      "source": [
        "## Ver sesión 3 Minibootcamp\n",
        "\n",
        "En esta sesión aprenderás:\n",
        "- Archivos\n",
        "\n",
        "- Excepciones\n",
        "\n",
        "- Comprehensions\n",
        "\n",
        "- Regex\n",
        "\n",
        "Puedes acceder aquí:\n",
        "[Sesión 3 Minibootcamp Python](https://nodd3r.com/masters/masterclass/courses/minibootcamp-python/theory/sesion-3-python-avanzado-teoria-practica)"
      ]
    },
    {
      "cell_type": "markdown",
      "metadata": {
        "id": "7eCIJZLQypSZ"
      },
      "source": [
        "# **Día 16. Listas (Nivel 2)**\n",
        "\n",
        "**Ejercicio**:\n",
        "Crea un programa que permita al usuario ingresar una lista de números y luego ordene esos números en orden ascendente. El programa debe hacer lo siguiente:\n",
        "\n",
        "Pedir al usuario que ingrese una serie de números, uno por uno, y almacenarlos en una lista.\n",
        "\n",
        "Ordenar la lista de números en orden ascendente.\n",
        "\n",
        "Mostrar la lista ordenada al usuario.\n",
        "\n"
      ]
    },
    {
      "cell_type": "code",
      "execution_count": null,
      "metadata": {
        "id": "91u9TcWtu7MN",
        "colab": {
          "base_uri": "https://localhost:8080/"
        },
        "outputId": "4fe3fafe-0758-4848-93d3-dc1f7ed6b0e5"
      },
      "outputs": [
        {
          "output_type": "stream",
          "name": "stdout",
          "text": [
            "Dime el número A: 5\n",
            "Dime el número B: 2\n",
            "Dime el número C: 7\n",
            "la lista es:  [5, 2, 7]\n",
            "[2, 5, 7]\n"
          ]
        }
      ],
      "source": [
        "# Escribe aquí tu código\n",
        "a= int(input(\"Dime el número A: \"))\n",
        "b= int(input(\"Dime el número B: \"))\n",
        "c= int(input(\"Dime el número C: \"))\n",
        "lista = [a, b, c]\n",
        "print (\"la lista es: \", lista)\n",
        "#para ordenarla:\n",
        "lista.sort()\n",
        "print (lista)"
      ]
    },
    {
      "cell_type": "code",
      "source": [
        "#si queremos guardar la lista original, hay que crear otra variable llamada nueva_lista\n",
        "x= int(input(\"Dime el número x: \"))\n",
        "y= int(input(\"Dime el número y: \"))\n",
        "z= int(input(\"Dime el número z: \"))\n",
        "lista_1 = [x, y, z]\n",
        "print (lista_1)\n",
        "\n",
        "nueva_lista = sorted(lista_1)\n",
        "print (nueva_lista)\n",
        "\n",
        "print (\"la lista ordenada es:\", nueva_lista)\n",
        "\n",
        "#hay ERRORES. Preguntada duda"
      ],
      "metadata": {
        "colab": {
          "base_uri": "https://localhost:8080/"
        },
        "id": "zFeWXOttjtgx",
        "outputId": "7ee8e848-9389-4eff-b5c5-2c3e7ba58b34"
      },
      "execution_count": null,
      "outputs": [
        {
          "output_type": "stream",
          "name": "stdout",
          "text": [
            "Dime el número x: 8\n",
            "Dime el número y: 6\n",
            "Dime el número z: 78\n",
            "[8, 6, 78]\n",
            "[6, 8, 78]\n",
            "la lista ordenada es: [6, 8, 78]\n"
          ]
        }
      ]
    },
    {
      "cell_type": "code",
      "execution_count": null,
      "metadata": {
        "id": "44Mt-pU1wetw",
        "colab": {
          "base_uri": "https://localhost:8080/"
        },
        "outputId": "76406152-1ee2-4987-f06b-1a9c9e816bc9"
      },
      "outputs": [
        {
          "output_type": "stream",
          "name": "stdout",
          "text": [
            "Ingrese un número (o 'fin' para finalizar): 1\n",
            "Ingrese un número (o 'fin' para finalizar): 8\n",
            "Ingrese un número (o 'fin' para finalizar): 5\n",
            "Ingrese un número (o 'fin' para finalizar): fin\n",
            "Lista de números ordenada:\n",
            "1.0\n",
            "5.0\n",
            "8.0\n"
          ]
        }
      ],
      "source": [
        "# @title Solución Día 16\n",
        "\n",
        "numeros = []\n",
        "while True:\n",
        "    numero = input(\"Ingrese un número (o 'fin' para finalizar): \")\n",
        "    if numero.lower() == 'fin':\n",
        "        break\n",
        "    try:\n",
        "        numero = float(numero)\n",
        "        numeros.append(numero)\n",
        "    except ValueError:\n",
        "        print(\"Por favor, ingrese un número válido.\")\n",
        "\n",
        "# Paso 2: Ordenar la lista de números en orden ascendente\n",
        "numeros.sort()\n",
        "\n",
        "# Paso 3: Mostrar la lista ordenada al usuario\n",
        "print(\"Lista de números ordenada:\")\n",
        "for numero in numeros:\n",
        "    print(numero)\n",
        "\n"
      ]
    },
    {
      "cell_type": "markdown",
      "metadata": {
        "id": "YvAG0N59RlFo"
      },
      "source": [
        "# **Día 17. Tuplas(Nivel 2)**\n",
        "\n",
        "\n",
        "\n",
        "*   Una tupla es similar a una lista, pero es inmutable, lo que significa que no puedes cambiar su contenido después de crearla.\n",
        "*   Puedes crear una tupla usando paréntesis () y separando los elementos por comas.\n",
        "*   Puedes acceder a los elementos de una tupla mediante su índice al igual que en las listas.\n",
        "*   Las tuplas son útiles cuando deseas almacenar datos que no deben modificarse, como coordenadas.\n",
        "\n",
        "```\n",
        "mi_tupla = (1, 2, 3, 4, 5)\n",
        "\n",
        "```\n",
        "\n",
        "Link tuplas: https://nodd3r.com/masters/master-data-science/courses/programacion-python/theory/que-son-las-tuplas"
      ]
    },
    {
      "cell_type": "markdown",
      "metadata": {
        "id": "SKLkDaRXzrWx"
      },
      "source": [
        "**Ejercicio**:\n",
        "Crea un programa que sume los valores de una tupla de números y muestre el resultado."
      ]
    },
    {
      "cell_type": "code",
      "execution_count": null,
      "metadata": {
        "colab": {
          "base_uri": "https://localhost:8080/"
        },
        "id": "NMpYQXcqBp7Z",
        "outputId": "37656183-5990-4beb-a316-032e1fa2ea6d"
      },
      "outputs": [
        {
          "output_type": "stream",
          "name": "stdout",
          "text": [
            "1\n",
            "2\n",
            "3\n",
            "4\n",
            "5\n",
            "la suma de los elementos de la tupla es  15\n"
          ]
        }
      ],
      "source": [
        "# Escribe aquí tu código\n",
        "mi_tupla = (1, 2, 3, 4, 5)\n",
        "\n",
        "elemento1 = mi_tupla[0]\n",
        "print (elemento1)\n",
        "elemento2 = mi_tupla[1]\n",
        "print (elemento2)\n",
        "elemento3 = mi_tupla[2]\n",
        "print (elemento3)\n",
        "elemento4 = mi_tupla[3]\n",
        "print (elemento4)\n",
        "elemento5 = mi_tupla[4]\n",
        "print (elemento5)\n",
        "\n",
        "suma = (elemento1+elemento2+elemento3+elemento4+elemento5)\n",
        "print (\"la suma de los elementos de la tupla es \", suma)"
      ]
    },
    {
      "cell_type": "code",
      "execution_count": null,
      "metadata": {
        "id": "_ZMCMTtcw9I6"
      },
      "outputs": [],
      "source": [
        "# @title Solución Día 17\n",
        "\n",
        "#19 Crea un programa que sume los valores de una tupla de números y muestre el resultado.\n",
        "\n",
        "# Definir una tupla de números\n",
        "numeros = (10, 20, 30, 40, 50)\n",
        "\n",
        "# Calcular la suma de los números en la tupla\n",
        "suma = sum(numeros)\n",
        "\n",
        "# Mostrar la suma en pantalla\n",
        "print(f\"La suma de los números en la tupla es: {suma}\")\n"
      ]
    },
    {
      "cell_type": "markdown",
      "metadata": {
        "id": "lSCxyUV-Sss0"
      },
      "source": [
        "# **Día 18. Diccionarios (Nivel 2)**\n",
        "\n",
        "\n",
        "\n",
        "*  Un diccionario es una colección de pares clave-valor en Python.\n",
        "*  Puedes crear un diccionario usando llaves {} y especificando pares clave-valor separados por comas.\n",
        "*  Los diccionarios son útiles para representar datos estructurados y etiquetados.\n",
        "*   Puedes acceder a los valores del diccionario utilizando las claves en lugar de índices.\n",
        "\n",
        "```\n",
        "mi_diccionario = {\"nombre\": \"Juan\", \"edad\": 30, \"ciudad\": \"Ejemplo\"}\n",
        "\n",
        "\n",
        "```\n",
        "\n",
        "Link Diccionarios: https://nodd3r.com/masters/master-data-science/courses/programacion-python/theory/que-son-los-diccionarios"
      ]
    },
    {
      "cell_type": "markdown",
      "metadata": {
        "id": "zRoADJNwzied"
      },
      "source": [
        "**Ejercicio**:\n",
        "\n",
        "Crea un programa que represente un diccionario de frutas y permita al usuario consultar la cantidad de cada tipo de fruta en el diccionario.\n",
        "\n",
        "El programa debe hacer lo siguiente:\n",
        "\n",
        "Inicializar un diccionario con al menos tres tipos de frutas y sus respectivas cantidades.\n",
        "\n",
        "Pedir al usuario que ingrese el nombre de una fruta.\n",
        "\n",
        "Mostrar la cantidad de esa fruta en el diccionario."
      ]
    },
    {
      "cell_type": "code",
      "execution_count": null,
      "metadata": {
        "id": "m4s3IuqfCPGF",
        "colab": {
          "base_uri": "https://localhost:8080/"
        },
        "outputId": "576e2c7d-cb98-41f6-e4cb-b657590cba3c"
      },
      "outputs": [
        {
          "output_type": "stream",
          "name": "stdout",
          "text": [
            "Consulta la cantidad en stok de la fruta: limón\n",
            "25\n"
          ]
        }
      ],
      "source": [
        "# Escribe aquí tu código\n",
        "almacen = {\"melón\":25, \"naranja\":40, \"limón\":25}\n",
        "fruta = str(input(\"Consulta la cantidad en stok de la fruta: \"))\n",
        "if fruta == \"melón\":\n",
        "  print (almacen [\"melón\"])\n",
        "if fruta == \"naranja\":\n",
        "  print (almacen [\"naranja\"])\n",
        "else:\n",
        "  print (almacen [\"limón\"])\n"
      ]
    },
    {
      "cell_type": "code",
      "execution_count": null,
      "metadata": {
        "id": "-Tx1f__KxIjY"
      },
      "outputs": [],
      "source": [
        "# @title Solución Día 18\n",
        "\n",
        "# 20 Crea un programa que represente un diccionario de frutas y permita al usuario consultar la cantidad de cada tipo de fruta en el diccionario. El programa debe hacer lo siguiente:\n",
        "\n",
        "# Inicializar un diccionario con al menos tres tipos de frutas y sus respectivas cantidades.\n",
        "# Pedir al usuario que ingrese el nombre de una fruta.\n",
        "# Mostrar la cantidad de esa fruta en el diccionario.\n",
        "\n",
        "# Inicializar un diccionario de frutas\n",
        "frutas = {\"manzana\": 10, \"banano\": 5, \"uva\": 15}\n",
        "\n",
        "# Pedir al usuario el nombre de una fruta\n",
        "fruta_consulta = input(\"Ingrese el nombre de una fruta: \")\n",
        "\n",
        "# Mostrar la cantidad de la fruta consultada\n",
        "if fruta_consulta in frutas:\n",
        "    cantidad = frutas[fruta_consulta]\n",
        "    print(f\"La cantidad de {fruta_consulta} es: {cantidad}\")\n",
        "else:\n",
        "    print(f\"{fruta_consulta} no se encuentra en el diccionario de frutas.\")\n"
      ]
    },
    {
      "cell_type": "markdown",
      "metadata": {
        "id": "e19SH9jsSzEl"
      },
      "source": [
        "# **Día 19. Ejercicio para reforzar todos los conceptos (Nivel 3)**\n",
        "**Ejercicio: Registro de Notas**\n",
        "\n",
        "Crea un programa que permita al usuario registrar las notas de estudiantes en un diccionario. El programa debe hacer lo siguiente:\n",
        "\n",
        "<br>\n",
        "\n",
        "*   Pedir al usuario que ingrese el nombre de un estudiante.\n",
        "\n",
        "*  Almacenar la nota en un diccionario donde la clave sea el nombre del estudiante y el valor sea su nota.\n",
        "\n",
        "*   Repetir los pasos 1-3 para varios estudiantes.\n",
        "*   Mostrar el diccionario de notas completo al final.\n",
        "\n",
        "\n",
        "\n",
        "\n"
      ]
    },
    {
      "cell_type": "code",
      "execution_count": null,
      "metadata": {
        "id": "6HClTN-8DAjV",
        "colab": {
          "base_uri": "https://localhost:8080/"
        },
        "outputId": "53084802-6e2b-4eb0-d42f-76016412728a"
      },
      "outputs": [
        {
          "output_type": "stream",
          "name": "stdout",
          "text": [
            "Introduce el nombre del estudiante: ana\n",
            "Nota del estudiante: 2\n",
            "Introduce el nombre del estudiante2: luis\n",
            "Nota del estudiante2: 3\n",
            "{'ana': 2, 'luis': 3}\n",
            "ana 2\n",
            "luis 3\n",
            "La nota de luis es: 2.0\n",
            "La nota de luis es: 2.0\n"
          ]
        }
      ],
      "source": [
        "# Escribe aquí tu código\n",
        "\n",
        "estudiante1 = str(input(\"Introduce el nombre del estudiante: \"))\n",
        "nota1 = int(input(\"Nota del estudiante: \"))\n",
        "estudiante2 = str(input(\"Introduce el nombre del estudiante2: \"))\n",
        "nota2 = int(input(\"Nota del estudiante2: \"))\n",
        "\n",
        "lista_notas = {estudiante1:nota1, estudiante2:nota2}\n",
        "print (lista_notas)\n",
        "\n",
        "for i in lista_notas:\n",
        "  print (i,lista_notas[i])\n",
        "\n",
        "# DUDA ¿cómo se haría para que saliera en cada línea: la nota de luis es 4 // la nota de ana es 6 ??\n",
        "for i in lista_notas:\n",
        "  print (f\"La nota de {estudiante} es: {nota}\")"
      ]
    },
    {
      "cell_type": "markdown",
      "source": [
        " --> OTRO SALTO CUÁNTICO!  ESTO ESTÁ EN LA TEORÍA??? yo no lo he visto..\n",
        "    notas[nombre] = nota"
      ],
      "metadata": {
        "id": "9i53kSQJiJb6"
      }
    },
    {
      "cell_type": "code",
      "execution_count": null,
      "metadata": {
        "id": "oeIMiDckxXkm",
        "colab": {
          "base_uri": "https://localhost:8080/"
        },
        "outputId": "98d86721-6456-463b-e2bc-c1fceed81b72"
      },
      "outputs": [
        {
          "output_type": "stream",
          "name": "stdout",
          "text": [
            "Ingrese el nombre del estudiante (o 'fin' para salir): ana\n",
            "Ingrese la nota del estudiante: 3\n",
            "Ingrese el nombre del estudiante (o 'fin' para salir): luis\n",
            "Ingrese la nota del estudiante: 2\n",
            "Ingrese el nombre del estudiante (o 'fin' para salir): fin\n",
            "Registro de Notas:\n",
            "ana: 3.0\n",
            "luis: 2.0\n"
          ]
        }
      ],
      "source": [
        "# @title Solución Día 19\n",
        "\n",
        "#21 Ejercicio de refuerzo\n",
        "# Inicializar un diccionario vacío para las notas\n",
        "notas = {}\n",
        "\n",
        "# Pedir al usuario que ingrese las notas de varios estudiantes\n",
        "while True:\n",
        "    nombre = input(\"Ingrese el nombre del estudiante (o 'fin' para salir): \")\n",
        "    if nombre.lower() == 'fin':\n",
        "        break\n",
        "    nota = float(input(\"Ingrese la nota del estudiante: \"))\n",
        "    notas[nombre] = nota\n",
        "\n",
        "# Mostrar el diccionario de notas completo\n",
        "print(\"Registro de Notas:\")\n",
        "for estudiante, nota in notas.items():\n",
        "    print(f\"{estudiante}: {nota}\")\n",
        "\n"
      ]
    },
    {
      "cell_type": "markdown",
      "metadata": {
        "id": "Gz0jpizYS9lU"
      },
      "source": [
        "# **Día 20. Ejercicio extra para aplicar conceptos (Nivel 3)**\n",
        "**Calculadora Simple**\n",
        "\n",
        "Crea una calculadora simple que realice las operaciones de suma, resta, multiplicación y división. El programa debe hacer lo siguiente:\n",
        "\n",
        "\n",
        "*   Definir cuatro funciones, una para cada operación (suma, resta, multiplicación y división).\n",
        "*  Pedir al usuario que ingrese dos números y la operación que desea realizar (+, -, *, /).\n",
        "*   Llamar a la función correspondiente para realizar la operación y mostrar el resultado.\n",
        "\n"
      ]
    },
    {
      "cell_type": "markdown",
      "metadata": {
        "id": "ENrNtDyhz3WI"
      },
      "source": [
        "**Ejercicio:**\n",
        "Ejercicio: Calculadora Simple\n",
        "\n",
        "Crea una calculadora simple que realice las operaciones de suma, resta, multiplicación y división. El programa debe hacer lo siguiente:\n",
        "\n",
        "Definir cuatro funciones, una para cada operación (suma, resta, multiplicación y división).\n",
        "Pedir al usuario que ingrese dos números y la operación que desea realizar (+, -, *, /).\n",
        "Llamar a la función correspondiente para realizar la operación y mostrar el resultado."
      ]
    },
    {
      "cell_type": "code",
      "execution_count": null,
      "metadata": {
        "id": "32Aj4_WOEGaS",
        "colab": {
          "base_uri": "https://localhost:8080/"
        },
        "outputId": "e1d5ffff-cada-4990-b473-27bf1815b0b5"
      },
      "outputs": [
        {
          "output_type": "stream",
          "name": "stdout",
          "text": [
            "introduce el primer número :8\n",
            "introduce el segundo número :0\n",
            "la suma de a + b es : 8.0\n",
            "la resta de a - b es : 8.0\n",
            "la multiplicación de a * b es : 0.0\n",
            "no se puede dividir por 0\n",
            "introduce el segundo número de nuevo: 4\n",
            "la división de a + b es : 2.0\n"
          ]
        }
      ],
      "source": [
        "# Escribe aquí tu código\n",
        "a = float(input(\"introduce el primer número :\"))\n",
        "b = float(input(\"introduce el segundo número :\"))\n",
        "\n",
        "def suma(a,b):\n",
        "  print (\"la suma de a + b es :\", a+b)\n",
        "\n",
        "suma(a,b)\n",
        "\n",
        "def resta(a,b):\n",
        "  print (\"la resta de a - b es :\", a-b)\n",
        "\n",
        "resta (a,b)\n",
        "\n",
        "def multiplica (a,b):\n",
        "  print (\"la multiplicación de a * b es :\", a*b)\n",
        "\n",
        "multiplica (a,b)\n",
        "\n",
        "\n",
        "def divide (a,b):\n",
        "  if b != 0:\n",
        "    divide (a,b)\n",
        "    print (\"la división de a + b es :\", a/b)\n",
        "  else:\n",
        "    print (\"no se puede dividir por 0\")\n",
        "    b = float(input(\"introduce el segundo número de nuevo: \"))\n",
        "    print (\"la división de a + b es :\", a/b)\n",
        "\n",
        "divide (a,b)\n"
      ]
    },
    {
      "cell_type": "code",
      "execution_count": null,
      "metadata": {
        "id": "_JRcJ06axfxV"
      },
      "outputs": [],
      "source": [
        "# @title Solución Día 20\n",
        "\n",
        "\n",
        "# Ejercicio: Calculadora Simple\n",
        "\n",
        "# Crea una calculadora simple que realice las operaciones de suma, resta, multiplicación y división. El programa debe hacer lo siguiente:\n",
        "\n",
        "# Definir cuatro funciones, una para cada operación (suma, resta, multiplicación y división).\n",
        "# Pedir al usuario que ingrese dos números y la operación que desea realizar (+, -, *, /).\n",
        "# Llamar a la función correspondiente para realizar la operación y mostrar el resultado.\n",
        "# Definir funciones para las operaciones\n",
        "def suma(a, b):\n",
        "    return a + b\n",
        "\n",
        "def resta(a, b):\n",
        "    return a - b\n",
        "\n",
        "def multiplicacion(a, b):\n",
        "    return a * b\n",
        "\n",
        "def division(a, b):\n",
        "    if b == 0:\n",
        "        return \"Error: No se puede dividir por cero.\"\n",
        "    return a / b\n",
        "\n",
        "# Pedir al usuario que ingrese dos números y la operación\n",
        "num1 = float(input(\"Ingrese el primer número: \"))\n",
        "num2 = float(input(\"Ingrese el segundo número: \"))\n",
        "operacion = input(\"Ingrese la operación que desea realizar (+, -, *, /): \")\n",
        "\n",
        "# Realizar la operación correspondiente\n",
        "if operacion == '+':\n",
        "    resultado = suma(num1, num2)\n",
        "elif operacion == '-':\n",
        "    resultado = resta(num1, num2)\n",
        "elif operacion == '*':\n",
        "    resultado = multiplicacion(num1, num2)\n",
        "elif operacion == '/':\n",
        "    resultado = division(num1, num2)\n",
        "else:\n",
        "    resultado = \"Operación no válida. Por favor, ingrese +, -, *, o /.\"\n",
        "\n",
        "# Mostrar el resultado\n",
        "print(f\"Resultado de la operación: {resultado}\")\n",
        "\n"
      ]
    },
    {
      "cell_type": "markdown",
      "metadata": {
        "id": "2sfuI69hxnwS"
      },
      "source": [
        "## **Ver sesión 4 Minibootcamp Python**\n",
        "\n",
        "En esta sesión aprenderás:\n",
        "- Programación funcional\n",
        "\n",
        "  - Map\n",
        "\n",
        "  - Filter\n",
        "\n",
        "  - Lambda\n",
        "\n",
        "- Programación Orientada a objetos\n",
        "\n",
        "  - Clases\n",
        "\n",
        "  - Objetos\n",
        "\n",
        "  - Métodos\n",
        "\n",
        "  - Atributos\n",
        "\n",
        "Puedes acceder a la sesión aquí:\n",
        "\n",
        "[Sesión 4 Minibootcamp Python](https://nodd3r.com/masters/masterclass/courses/minibootcamp-python/theory/sesion-4-python-pro-teoria-practica)"
      ]
    },
    {
      "cell_type": "markdown",
      "metadata": {
        "id": "N3aX1p8C0kCC"
      },
      "source": [
        "# **Día 21.Programación Orientada a Objetos (Nivel 4)**\n",
        "\n",
        "En el mundo real, mientras trabajamos en proyectos de la vida real, los problemas que intentamos resolver con la programación son complejos e implican mucha lluvia de ideas incluso antes de escribir una sola línea de código.\n",
        "\n",
        "Los buenos programadores no sólo piensan en cómo resolver el problema con código, sino también en cómo escribir código que sea más fácil de mantener, más fácil de ampliar cuando sea necesario y también más fácil de leer y escribir.\n",
        "\n",
        "Esta forma de **estructurar y organizar el código** se conoce como paradigma de programación.\n",
        "\n",
        "Es como un patrón con una **serie de reglas predefinidas** que los desarrolladores pueden seguir para evitar el caos.\n",
        "\n",
        "Imagina que cada desarrollador intentara ser astuto y escribiera el código a su manera.\n",
        "\n",
        "Sin un patrón definido, ¡el proyecto estaría condenado!\n",
        "\n",
        "Volvamos a Python.\n",
        "\n",
        "**En Python, todo es un objeto.**\n",
        "\n",
        "Los tipos de datos que exploramos son todos **objetos** que tienen sus propios **atributos** asociados y **métodos** para realizar alguna acción.\n",
        "\n",
        "Estos objetos vienen de sus **clases** como una **instancia**.\n",
        "\n",
        "Esto significa que todos los tipos de datos en Python tienen una estructura definida o prototipo donde todos los detalles de sus propiedades y funcionalidades han sido definidos.\n",
        "\n",
        "Al igual que las clases incorporadas, se pueden **crear clases personalizadas para representar cosas del mundo real** como coches, máquinas, seres humanos, animales o cualquier otra cosa.\n",
        "\n",
        "Esta representación de entidades del mundo real y sus propiedades y comportamientos en clases de código se puede considerar como una definición libre del paradigma de **programación orientada a objetos**.\n",
        "\n",
        "Cada clase puede utilizarse para crear instancias de un objeto.\n",
        "\n",
        "Estos objetos pueden combinarse con otros para simular funcionalidades del mundo real.\n",
        "\n",
        "Pero para ver POO en acción en Python habrá que sumergirse a fondo y escribir algo de código.\n",
        "\n",
        "- Link POO: https://nodd3r.com/masters/master-data-science/courses/programacion-python/theory/que-es-la-programacion-orientada-a-objetos\n",
        "\n",
        "- https://nodd3r.com/masters/master-data-science/courses/programacion-python/theory/que-es-la-herencia\n",
        "\n",
        "- https://nodd3r.com/masters/master-data-science/courses/programacion-python/theory/para-que-sirve-la-encapsulacion\n",
        "\n",
        "- https://nodd3r.com/masters/master-data-science/courses/programacion-python/theory/que-es-el-polimorfismo"
      ]
    },
    {
      "cell_type": "code",
      "execution_count": null,
      "metadata": {
        "id": "LXeDEHU03BJ7"
      },
      "outputs": [],
      "source": [
        "# se define la clase Avenger con class\n",
        "class Avenger:\n",
        "  # se inicializa la clase con la función __init__\n",
        "  def __init__(self, name):\n",
        "    # self para que name pertenezca a la clase\n",
        "    # self.name es un atributo de Avenger\n",
        "    self.name = name\n",
        "\n",
        "  # la función fight es un método de Avenger\n",
        "  def fight(self):\n",
        "    print('👊')\n",
        "\n",
        "# creamos un nuevo objeto Avenger que se llame Spiderman\n",
        "spiderman = Avenger('Spiderman')\n",
        "\n",
        "# printamos\n",
        "print(type(Avenger)) # <class 'type'>\n",
        "print(type(spiderman)) # <class '__main__.Avenger'>"
      ]
    },
    {
      "cell_type": "markdown",
      "metadata": {
        "id": "eBEUUkYT3lAK"
      },
      "source": [
        "El **__ init __** es un método de inicialización (también llamado método constructor).\n",
        "\n",
        "Se utiliza para inicializar las variables de la clase. En la clase anterior, se está inicializando name.\n",
        "\n",
        "**self** es una palabra clave en Python que es una referencia a la instancia de la clase.\n",
        "Se utiliza para acceder a las variables o atributos de la clase.\n",
        "\n",
        "En la clase Avenger, **fight** es un método que es una representación hipotética de lo que hará un Avenger cuando se le pida que luche.\n",
        "Aquí sólo imprime un emoji, pero puede ser cualquier acción.\n",
        "\n",
        "Usando esta clase Avenger como prototipo, he creado un **objeto Spiderman**.\n",
        "\n",
        "Similarmente, esta clase puede ser usada para crear otros Avengers pero parece que todos harían lo mismo al pedirles que peleen lo cual no es cool."
      ]
    },
    {
      "cell_type": "markdown",
      "metadata": {
        "id": "T8fVtvYS3dRI"
      },
      "source": [
        "**Ejercicio**:\n",
        "La tarea consiste en crear una clase SoccerPlayer con atributos de nombre y goles. Además, debe tener un método que sea **gol** que sume 1 a los goles que tiene.\n",
        "\n",
        "Luego crear 3 objetos de 3 jugadores y usando una función sacar los jugadores ordenados por goles."
      ]
    },
    {
      "cell_type": "code",
      "execution_count": null,
      "metadata": {
        "id": "jaSoxbUb4M4t"
      },
      "outputs": [],
      "source": [
        "# Escribe aquí tu código\n",
        "class SoccerPlayer:\n",
        "  # se inicializa la clase con la función __init__\n",
        "  def __init__(self, nombre, goles):\n",
        "    # self para que name pertenezca a la clase\n",
        "    # self.name es un atributo de Avenger\n",
        "    self.nombre = nombre\n",
        "    self.goles = goles\n",
        "    print()\n",
        "\n",
        "  # la función fight es un método de Avenger\n",
        "\n",
        "\n",
        "Jugador1=SoccerPlayer(\"Messi\",31)\n",
        "\n"
      ]
    },
    {
      "cell_type": "code",
      "execution_count": null,
      "metadata": {
        "cellView": "form",
        "colab": {
          "base_uri": "https://localhost:8080/"
        },
        "id": "sQ28sw9FyEaa",
        "outputId": "9e855fa8-073a-4c60-f893-8fcfe159a017"
      },
      "outputs": [
        {
          "name": "stdout",
          "output_type": "stream",
          "text": [
            "Jugadores ordenados por goles:\n",
            "Ronaldo: 31 goles\n",
            "Messi: 27 goles\n",
            "Neymar: 22 goles\n"
          ]
        }
      ],
      "source": [
        "# @title Solución Día 21\n",
        "\n",
        "class SoccerPlayer:\n",
        "    def __init__(self, nombre, goles=0):\n",
        "        self.nombre = nombre\n",
        "        self.goles = goles\n",
        "\n",
        "    def gol(self):\n",
        "        self.goles += 1\n",
        "\n",
        "# Función para ordenar jugadores por goles\n",
        "def ordenar_por_goles(jugadores):\n",
        "    return sorted(jugadores, key=lambda jugador: jugador.goles, reverse=True)\n",
        "\n",
        "# Crear objetos de jugadores\n",
        "messi = SoccerPlayer(\"Messi\", 25)\n",
        "ronaldo = SoccerPlayer(\"Ronaldo\", 30)\n",
        "neymar = SoccerPlayer(\"Neymar\", 20)\n",
        "\n",
        "# Realizar algunos goles\n",
        "messi.gol()\n",
        "messi.gol()\n",
        "ronaldo.gol()\n",
        "neymar.gol()\n",
        "neymar.gol()\n",
        "\n",
        "# Lista de jugadores\n",
        "lista_jugadores = [messi, ronaldo, neymar]\n",
        "\n",
        "# Ordenar jugadores por goles\n",
        "jugadores_ordenados = ordenar_por_goles(lista_jugadores)\n",
        "\n",
        "# Imprimir jugadores ordenados por goles\n",
        "print(\"Jugadores ordenados por goles:\")\n",
        "for jugador in jugadores_ordenados:\n",
        "    print(f\"{jugador.nombre}: {jugador.goles} goles\")\n"
      ]
    },
    {
      "cell_type": "markdown",
      "metadata": {
        "id": "ypuSGBG8zJK7"
      },
      "source": [
        "## **Para terminar**\n",
        "\n",
        "Entrega tu Google Colab con tus soluciones rellenando este Google Sheets:\n",
        "\n",
        "[Accede al Google Sheets aquí](https://docs.google.com/spreadsheets/d/1r8NTODDVOCPEumk7B1HjvRRwBc4KNqm1X8qA4_OOHA4/edit?usp=sharing)\n",
        "\n",
        "\n",
        "Y avísanos por Discord 😁"
      ]
    },
    {
      "cell_type": "markdown",
      "metadata": {
        "id": "SgQL3uq2zL6-"
      },
      "source": [
        "# **Siguientes pasos**\n",
        "\n",
        "1. Puedes terminar el Minibootcamp viendo un proyecto real de Python explicado:\n",
        "\n",
        "[Sesión 5 Minibootcamp Python](https://nodd3r.com/masters/masterclass/courses/minibootcamp-python/theory/sesion-5-proyecto-final-python)\n",
        "\n",
        "2. Una vez hayas completado esto, vuelve al módulo de Python para terminarlo 💪\n",
        "\n",
        "https://nodd3r.com/masters/master-data-science/courses/programacion-python"
      ]
    }
  ],
  "metadata": {
    "colab": {
      "provenance": [],
      "include_colab_link": true
    },
    "kernelspec": {
      "display_name": "Python 3",
      "name": "python3"
    },
    "language_info": {
      "name": "python"
    }
  },
  "nbformat": 4,
  "nbformat_minor": 0
}